{
  "nbformat": 4,
  "nbformat_minor": 0,
  "metadata": {
    "colab": {
      "name": "Atividade 02 Mayke Kend.ipynb",
      "provenance": [],
      "collapsed_sections": []
    },
    "language_info": {
      "codemirror_mode": {
        "name": "ipython",
        "version": 3
      },
      "file_extension": ".py",
      "mimetype": "text/x-python",
      "name": "python",
      "nbconvert_exporter": "python",
      "pygments_lexer": "ipython3",
      "version": "3.5.2"
    },
    "kernelspec": {
      "name": "python3",
      "display_name": "Python 3"
    },
    "accelerator": "GPU"
  },
  "cells": [
    {
      "cell_type": "markdown",
      "metadata": {
        "id": "-qAGWGzAUXgv",
        "colab_type": "text"
      },
      "source": [
        "# Demo 3 - Classificação de sentimento em reviews de filmes com base do IMDB via RNNs (Recurrent Neural Networks)\n",
        "\n",
        "Neste notebook iremos treinar uma Rede Neural Recorrent (RNN) para classificação de sentimento usando Keras (com Tensorflow como backend).\n",
        "\n",
        "- Aluno(a): Mayke Kend Gomes Delgado.\n",
        "- Prof. Ahirton Lopes\n",
        "- Curso: Pós-Graduação em Ciência de Dados.\n",
        "- Disciplina: Aprendizagem Profunda(Deep Learning).\n",
        "- Matrícula: 1691690020"
      ]
    },
    {
      "cell_type": "code",
      "metadata": {
        "id": "tRQc12p5u1BD",
        "colab_type": "code",
        "colab": {}
      },
      "source": [
        "#!pip install --upgrade keras"
      ],
      "execution_count": null,
      "outputs": []
    },
    {
      "cell_type": "code",
      "metadata": {
        "id": "h4oRcDCaUXgx",
        "colab_type": "code",
        "colab": {}
      },
      "source": [
        "%matplotlib inline\n",
        "\n",
        "from keras.preprocessing import sequence\n",
        "from keras.models import Sequential\n",
        "from keras.layers import Dense, Embedding, Dropout\n",
        "from keras.layers import LSTM\n",
        "from keras.datasets import imdb\n",
        "\n",
        "from IPython.display import SVG\n",
        "from keras.utils.vis_utils import model_to_dot\n",
        "\n",
        "import numpy as np\n",
        "import matplotlib.pyplot as plt\n",
        "import seaborn as sns\n",
        "sns.set()"
      ],
      "execution_count": null,
      "outputs": []
    },
    {
      "cell_type": "markdown",
      "metadata": {
        "id": "K7yp39afUXg1",
        "colab_type": "text"
      },
      "source": [
        "## Base de dados do IMDB (https://www.kaggle.com/iarunava/imdb-movie-reviews-dataset) \n",
        "\n",
        "Em seguida, carregaremos o conjunto de dados do IMDB. Na primeira vez, talvez tenhamos que baixar os dados, o que pode demorar um pouco. O conjunto de dados contém 50000 avaliações de filmes do Internet Movie Database, dividido em 25.000 avaliações para treinamento e 25.000 avaliações para testes. Metade dos comentários são positivos (1) e metade são negativos (0).\n",
        "\n",
        "O conjunto de dados já foi pré-processado e cada palavra foi substituída por um índice inteiro.\n",
        "\n",
        "As revisões são, portanto, representadas como sequências de comprimento variável de inteiros, como consta:\n",
        "\n",
        "(Os índices de palavras começam em \"3\", como \"1\" é usado para marcar o início de uma revisão e \"2\" representa todas as palavras fora do vocabulário existente. \"0\" será usado posteriormente para preencher comentários mais curtos em um tamanho fixo .)\n",
        "\n",
        "\n",
        "* Mais informações e créditos originais:\n",
        "\n",
        "Maas, Andrew L. and Daly, Raymond E. and Pham, Peter T. and Huang, Dan and Ng, Andrew Y. and Potts, Christopher, \"Learning Word Vectors for Sentiment Analysis\", em Proceedings of the 49th Annual Meeting of the Association for Computational Linguistics: Human Language Technologies, June, 2011. Portland, Oregon, USA. Association for Computational Linguistics. Pages 142 a150. Disponível em: http://www.aclweb.org/anthology/P11-1015"
      ]
    },
    {
      "cell_type": "code",
      "metadata": {
        "id": "lrzgGTpsUXg2",
        "colab_type": "code",
        "colab": {
          "base_uri": "https://localhost:8080/",
          "height": 136
        },
        "outputId": "76be244f-0b82-4037-fa5f-e0bafece6117"
      },
      "source": [
        "# número de palavras mais frequentes para se utilizar:\n",
        "\n",
        "nb_words = 20000\n",
        "\n",
        "# cortar textos a partir do seguinte número de palavras (maxlenght):\n",
        "\n",
        "maxlen = 100\n",
        "\n",
        "print('Carregando...')\n",
        "(x_train, y_train), (x_test, y_test) = imdb.load_data(num_words=nb_words)\n",
        "print('x_train:', x_train.shape)\n",
        "print('x_test:', x_test.shape)\n",
        "print()\n",
        "\n",
        "print('Sequencias (samples x time)')\n",
        "x_train = sequence.pad_sequences(x_train, maxlen=maxlen)\n",
        "x_test = sequence.pad_sequences(x_test, maxlen=maxlen)\n",
        "print('x_train shape:', x_train.shape)\n",
        "print('x_test shape:', x_test.shape)"
      ],
      "execution_count": null,
      "outputs": [
        {
          "output_type": "stream",
          "text": [
            "Carregando...\n",
            "x_train: (25000,)\n",
            "x_test: (25000,)\n",
            "\n",
            "Sequencias (samples x time)\n",
            "x_train shape: (25000, 100)\n",
            "x_test shape: (25000, 100)\n"
          ],
          "name": "stdout"
        }
      ]
    },
    {
      "cell_type": "markdown",
      "metadata": {
        "id": "yXWrBa2pUXg4",
        "colab_type": "text"
      },
      "source": [
        "Mostrando nosso primeiro review no set de treinamento:"
      ]
    },
    {
      "cell_type": "code",
      "metadata": {
        "id": "NyMoRVNjUXg5",
        "colab_type": "code",
        "colab": {
          "base_uri": "https://localhost:8080/",
          "height": 204
        },
        "outputId": "e062c26f-cf89-4774-cce9-b6f609539d76"
      },
      "source": [
        "print(\"Primeiro review no set de treinamento:\\n \\n\", x_train[0], \"comprimento:\", len(x_train[0]), \"classe:\", y_train[0])"
      ],
      "execution_count": null,
      "outputs": [
        {
          "output_type": "stream",
          "text": [
            "Primeiro review no set de treinamento:\n",
            " \n",
            " [ 1415    33     6    22    12   215    28    77    52     5    14   407\n",
            "    16    82 10311     8     4   107   117  5952    15   256     4     2\n",
            "     7  3766     5   723    36    71    43   530   476    26   400   317\n",
            "    46     7     4 12118  1029    13   104    88     4   381    15   297\n",
            "    98    32  2071    56    26   141     6   194  7486    18     4   226\n",
            "    22    21   134   476    26   480     5   144    30  5535    18    51\n",
            "    36    28   224    92    25   104     4   226    65    16    38  1334\n",
            "    88    12    16   283     5    16  4472   113   103    32    15    16\n",
            "  5345    19   178    32] comprimento: 100 classe: 1\n"
          ],
          "name": "stdout"
        }
      ]
    },
    {
      "cell_type": "markdown",
      "metadata": {
        "id": "V4HY7sH2UXg7",
        "colab_type": "text"
      },
      "source": [
        "## Inicialização\n",
        "\n",
        "Vamos criar um modelo RNN que tenha uma (ou, opcionalmente, duas) camadas LSTM e de Dropout. \n",
        "\n",
        "A primeira camada na rede é uma camada de Embedding que converte índices inteiros em vetores densos de comprimento ´embedding_dims`. A camada de saída contém um único neurônio e uma não-linearidade do tipo sigmóide para coincidir com a groundtruth binária (`y_train`).\n",
        "\n",
        "Finalmente, nós `compilamos ()` o modelo, usando entropia cruzada binária como a função de perda e [* RMSprop *] (https://keras.io/optimizers/#rmsprop) como otimizador."
      ]
    },
    {
      "cell_type": "code",
      "metadata": {
        "id": "OaD2LN7dUXg8",
        "colab_type": "code",
        "colab": {
          "base_uri": "https://localhost:8080/",
          "height": 323
        },
        "outputId": "7207164f-110f-47b7-a226-1ce2d5052ac9"
      },
      "source": [
        "# Parâmetros do modelo:\n",
        "\n",
        "embedding_dims = 50\n",
        "lstm_units = 32\n",
        "\n",
        "print('Construindo nosso modelo...')\n",
        "model = Sequential()\n",
        "\n",
        "model.add(Embedding(nb_words,\n",
        "                    embedding_dims,\n",
        "                    input_length=maxlen))\n",
        "model.add(Dropout(0.2))\n",
        "\n",
        "# se estiver executando sem GPU:\n",
        "# Note que na camada de LSTM, foi inserida toda a classe, visto que usei várias ativações e sempre minha accuracy encontrava-se entre 78 a 83%\n",
        "model.add(LSTM(lstm_units,\n",
        "               activation=\"tanh\",\n",
        "               recurrent_activation=\"sigmoid\",\n",
        "               use_bias=True,\n",
        "               kernel_initializer=\"glorot_uniform\",\n",
        "               recurrent_initializer=\"orthogonal\",\n",
        "               bias_initializer=\"zeros\",\n",
        "               unit_forget_bias=True,\n",
        "               kernel_regularizer=None,\n",
        "               recurrent_regularizer=None,\n",
        "               bias_regularizer=None,\n",
        "               activity_regularizer=None,\n",
        "               kernel_constraint=None,\n",
        "               recurrent_constraint=None,\n",
        "               bias_constraint=None,\n",
        "               dropout=0.0,\n",
        "               recurrent_dropout=0.0,\n",
        "               implementation=2,\n",
        "               return_sequences=False,\n",
        "               return_state=False,\n",
        "               go_backwards=False,\n",
        "               stateful=False,\n",
        "               time_major=False,\n",
        "               unroll=False,\n",
        "            \n",
        "               ))\n",
        "                                \n",
        "# Para empilhar várias camadas RNN, todas as camadas RNN, exceto a última\n",
        "# precisam ter \"return_sequences = True\". Um exemplo de uso de duas camadas RNN:\n",
        "\n",
        "#model.add(LSTM(lstm_units, return_sequences=True))\n",
        "#model.add(LSTM(lstm_units))\n",
        "\n",
        "model.add(Dense(1, activation='sigmoid'))\n",
        "\n",
        "# Tentem utilizar outros otimizadores e configurações\n",
        "\n",
        "model.compile(loss='binary_crossentropy',\n",
        "              optimizer='rmsprop',\n",
        "              metrics=['accuracy'])\n",
        "print(model.summary())\n"
      ],
      "execution_count": null,
      "outputs": [
        {
          "output_type": "stream",
          "text": [
            "Construindo nosso modelo...\n",
            "Model: \"sequential_105\"\n",
            "_________________________________________________________________\n",
            "Layer (type)                 Output Shape              Param #   \n",
            "=================================================================\n",
            "embedding_70 (Embedding)     (None, 100, 50)           1000000   \n",
            "_________________________________________________________________\n",
            "dropout_70 (Dropout)         (None, 100, 50)           0         \n",
            "_________________________________________________________________\n",
            "lstm_69 (LSTM)               (None, 32)                10624     \n",
            "_________________________________________________________________\n",
            "dense_100 (Dense)            (None, 1)                 33        \n",
            "=================================================================\n",
            "Total params: 1,010,657\n",
            "Trainable params: 1,010,657\n",
            "Non-trainable params: 0\n",
            "_________________________________________________________________\n",
            "None\n"
          ],
          "name": "stdout"
        }
      ]
    },
    {
      "cell_type": "code",
      "metadata": {
        "id": "pQIbt-yGUXg-",
        "colab_type": "code",
        "colab": {
          "base_uri": "https://localhost:8080/",
          "height": 709
        },
        "outputId": "e273d92c-c43b-468d-d699-d83bea9b6842"
      },
      "source": [
        "SVG(model_to_dot(model, show_shapes=True).create(prog='dot', format='svg'))"
      ],
      "execution_count": null,
      "outputs": [
        {
          "output_type": "execute_result",
          "data": {
            "text/plain": [
              "<IPython.core.display.SVG object>"
            ],
            "image/svg+xml": "<svg height=\"516pt\" viewBox=\"0.00 0.00 349.00 387.00\" width=\"465pt\" xmlns=\"http://www.w3.org/2000/svg\" xmlns:xlink=\"http://www.w3.org/1999/xlink\">\n<g class=\"graph\" id=\"graph0\" transform=\"scale(1.3333 1.3333) rotate(0) translate(4 383)\">\n<title>G</title>\n<polygon fill=\"#ffffff\" points=\"-4,4 -4,-383 345,-383 345,4 -4,4\" stroke=\"transparent\"/>\n<!-- 140183003921600 -->\n<g class=\"node\" id=\"node1\">\n<title>140183003921600</title>\n<polygon fill=\"none\" points=\"0,-332.5 0,-378.5 341,-378.5 341,-332.5 0,-332.5\" stroke=\"#000000\"/>\n<text fill=\"#000000\" font-family=\"Times,serif\" font-size=\"14.00\" text-anchor=\"middle\" x=\"106\" y=\"-351.8\">embedding_70_input: InputLayer</text>\n<polyline fill=\"none\" points=\"212,-332.5 212,-378.5 \" stroke=\"#000000\"/>\n<text fill=\"#000000\" font-family=\"Times,serif\" font-size=\"14.00\" text-anchor=\"middle\" x=\"241\" y=\"-363.3\">input:</text>\n<polyline fill=\"none\" points=\"212,-355.5 270,-355.5 \" stroke=\"#000000\"/>\n<text fill=\"#000000\" font-family=\"Times,serif\" font-size=\"14.00\" text-anchor=\"middle\" x=\"241\" y=\"-340.3\">output:</text>\n<polyline fill=\"none\" points=\"270,-332.5 270,-378.5 \" stroke=\"#000000\"/>\n<text fill=\"#000000\" font-family=\"Times,serif\" font-size=\"14.00\" text-anchor=\"middle\" x=\"305.5\" y=\"-363.3\">[(?, 100)]</text>\n<polyline fill=\"none\" points=\"270,-355.5 341,-355.5 \" stroke=\"#000000\"/>\n<text fill=\"#000000\" font-family=\"Times,serif\" font-size=\"14.00\" text-anchor=\"middle\" x=\"305.5\" y=\"-340.3\">[(?, 100)]</text>\n</g>\n<!-- 140183003918800 -->\n<g class=\"node\" id=\"node2\">\n<title>140183003918800</title>\n<polygon fill=\"none\" points=\"10,-249.5 10,-295.5 331,-295.5 331,-249.5 10,-249.5\" stroke=\"#000000\"/>\n<text fill=\"#000000\" font-family=\"Times,serif\" font-size=\"14.00\" text-anchor=\"middle\" x=\"99.5\" y=\"-268.8\">embedding_70: Embedding</text>\n<polyline fill=\"none\" points=\"189,-249.5 189,-295.5 \" stroke=\"#000000\"/>\n<text fill=\"#000000\" font-family=\"Times,serif\" font-size=\"14.00\" text-anchor=\"middle\" x=\"218\" y=\"-280.3\">input:</text>\n<polyline fill=\"none\" points=\"189,-272.5 247,-272.5 \" stroke=\"#000000\"/>\n<text fill=\"#000000\" font-family=\"Times,serif\" font-size=\"14.00\" text-anchor=\"middle\" x=\"218\" y=\"-257.3\">output:</text>\n<polyline fill=\"none\" points=\"247,-249.5 247,-295.5 \" stroke=\"#000000\"/>\n<text fill=\"#000000\" font-family=\"Times,serif\" font-size=\"14.00\" text-anchor=\"middle\" x=\"289\" y=\"-280.3\">(?, 100)</text>\n<polyline fill=\"none\" points=\"247,-272.5 331,-272.5 \" stroke=\"#000000\"/>\n<text fill=\"#000000\" font-family=\"Times,serif\" font-size=\"14.00\" text-anchor=\"middle\" x=\"289\" y=\"-257.3\">(?, 100, 50)</text>\n</g>\n<!-- 140183003921600&#45;&gt;140183003918800 -->\n<g class=\"edge\" id=\"edge1\">\n<title>140183003921600-&gt;140183003918800</title>\n<path d=\"M170.5,-332.3799C170.5,-324.1745 170.5,-314.7679 170.5,-305.8786\" fill=\"none\" stroke=\"#000000\"/>\n<polygon fill=\"#000000\" points=\"174.0001,-305.784 170.5,-295.784 167.0001,-305.784 174.0001,-305.784\" stroke=\"#000000\"/>\n</g>\n<!-- 140183003919080 -->\n<g class=\"node\" id=\"node3\">\n<title>140183003919080</title>\n<polygon fill=\"none\" points=\"29,-166.5 29,-212.5 312,-212.5 312,-166.5 29,-166.5\" stroke=\"#000000\"/>\n<text fill=\"#000000\" font-family=\"Times,serif\" font-size=\"14.00\" text-anchor=\"middle\" x=\"99.5\" y=\"-185.8\">dropout_70: Dropout</text>\n<polyline fill=\"none\" points=\"170,-166.5 170,-212.5 \" stroke=\"#000000\"/>\n<text fill=\"#000000\" font-family=\"Times,serif\" font-size=\"14.00\" text-anchor=\"middle\" x=\"199\" y=\"-197.3\">input:</text>\n<polyline fill=\"none\" points=\"170,-189.5 228,-189.5 \" stroke=\"#000000\"/>\n<text fill=\"#000000\" font-family=\"Times,serif\" font-size=\"14.00\" text-anchor=\"middle\" x=\"199\" y=\"-174.3\">output:</text>\n<polyline fill=\"none\" points=\"228,-166.5 228,-212.5 \" stroke=\"#000000\"/>\n<text fill=\"#000000\" font-family=\"Times,serif\" font-size=\"14.00\" text-anchor=\"middle\" x=\"270\" y=\"-197.3\">(?, 100, 50)</text>\n<polyline fill=\"none\" points=\"228,-189.5 312,-189.5 \" stroke=\"#000000\"/>\n<text fill=\"#000000\" font-family=\"Times,serif\" font-size=\"14.00\" text-anchor=\"middle\" x=\"270\" y=\"-174.3\">(?, 100, 50)</text>\n</g>\n<!-- 140183003918800&#45;&gt;140183003919080 -->\n<g class=\"edge\" id=\"edge2\">\n<title>140183003918800-&gt;140183003919080</title>\n<path d=\"M170.5,-249.3799C170.5,-241.1745 170.5,-231.7679 170.5,-222.8786\" fill=\"none\" stroke=\"#000000\"/>\n<polygon fill=\"#000000\" points=\"174.0001,-222.784 170.5,-212.784 167.0001,-222.784 174.0001,-222.784\" stroke=\"#000000\"/>\n</g>\n<!-- 140183003918576 -->\n<g class=\"node\" id=\"node4\">\n<title>140183003918576</title>\n<polygon fill=\"none\" points=\"44.5,-83.5 44.5,-129.5 296.5,-129.5 296.5,-83.5 44.5,-83.5\" stroke=\"#000000\"/>\n<text fill=\"#000000\" font-family=\"Times,serif\" font-size=\"14.00\" text-anchor=\"middle\" x=\"99.5\" y=\"-102.8\">lstm_69: LSTM</text>\n<polyline fill=\"none\" points=\"154.5,-83.5 154.5,-129.5 \" stroke=\"#000000\"/>\n<text fill=\"#000000\" font-family=\"Times,serif\" font-size=\"14.00\" text-anchor=\"middle\" x=\"183.5\" y=\"-114.3\">input:</text>\n<polyline fill=\"none\" points=\"154.5,-106.5 212.5,-106.5 \" stroke=\"#000000\"/>\n<text fill=\"#000000\" font-family=\"Times,serif\" font-size=\"14.00\" text-anchor=\"middle\" x=\"183.5\" y=\"-91.3\">output:</text>\n<polyline fill=\"none\" points=\"212.5,-83.5 212.5,-129.5 \" stroke=\"#000000\"/>\n<text fill=\"#000000\" font-family=\"Times,serif\" font-size=\"14.00\" text-anchor=\"middle\" x=\"254.5\" y=\"-114.3\">(?, 100, 50)</text>\n<polyline fill=\"none\" points=\"212.5,-106.5 296.5,-106.5 \" stroke=\"#000000\"/>\n<text fill=\"#000000\" font-family=\"Times,serif\" font-size=\"14.00\" text-anchor=\"middle\" x=\"254.5\" y=\"-91.3\">(?, 32)</text>\n</g>\n<!-- 140183003919080&#45;&gt;140183003918576 -->\n<g class=\"edge\" id=\"edge3\">\n<title>140183003919080-&gt;140183003918576</title>\n<path d=\"M170.5,-166.3799C170.5,-158.1745 170.5,-148.7679 170.5,-139.8786\" fill=\"none\" stroke=\"#000000\"/>\n<polygon fill=\"#000000\" points=\"174.0001,-139.784 170.5,-129.784 167.0001,-139.784 174.0001,-139.784\" stroke=\"#000000\"/>\n</g>\n<!-- 140183003783296 -->\n<g class=\"node\" id=\"node5\">\n<title>140183003783296</title>\n<polygon fill=\"none\" points=\"53.5,-.5 53.5,-46.5 287.5,-46.5 287.5,-.5 53.5,-.5\" stroke=\"#000000\"/>\n<text fill=\"#000000\" font-family=\"Times,serif\" font-size=\"14.00\" text-anchor=\"middle\" x=\"114.5\" y=\"-19.8\">dense_100: Dense</text>\n<polyline fill=\"none\" points=\"175.5,-.5 175.5,-46.5 \" stroke=\"#000000\"/>\n<text fill=\"#000000\" font-family=\"Times,serif\" font-size=\"14.00\" text-anchor=\"middle\" x=\"204.5\" y=\"-31.3\">input:</text>\n<polyline fill=\"none\" points=\"175.5,-23.5 233.5,-23.5 \" stroke=\"#000000\"/>\n<text fill=\"#000000\" font-family=\"Times,serif\" font-size=\"14.00\" text-anchor=\"middle\" x=\"204.5\" y=\"-8.3\">output:</text>\n<polyline fill=\"none\" points=\"233.5,-.5 233.5,-46.5 \" stroke=\"#000000\"/>\n<text fill=\"#000000\" font-family=\"Times,serif\" font-size=\"14.00\" text-anchor=\"middle\" x=\"260.5\" y=\"-31.3\">(?, 32)</text>\n<polyline fill=\"none\" points=\"233.5,-23.5 287.5,-23.5 \" stroke=\"#000000\"/>\n<text fill=\"#000000\" font-family=\"Times,serif\" font-size=\"14.00\" text-anchor=\"middle\" x=\"260.5\" y=\"-8.3\">(?, 1)</text>\n</g>\n<!-- 140183003918576&#45;&gt;140183003783296 -->\n<g class=\"edge\" id=\"edge4\">\n<title>140183003918576-&gt;140183003783296</title>\n<path d=\"M170.5,-83.3799C170.5,-75.1745 170.5,-65.7679 170.5,-56.8786\" fill=\"none\" stroke=\"#000000\"/>\n<polygon fill=\"#000000\" points=\"174.0001,-56.784 170.5,-46.784 167.0001,-56.784 174.0001,-56.784\" stroke=\"#000000\"/>\n</g>\n</g>\n</svg>"
          },
          "metadata": {
            "tags": []
          },
          "execution_count": 561
        }
      ]
    },
    {
      "cell_type": "markdown",
      "metadata": {
        "id": "8z7QmhEKUXhA",
        "colab_type": "text"
      },
      "source": [
        "## Aprendizagem (Treino)\n",
        "\n",
        "Agora estamos prontos para treinar nosso modelo. \n",
        "\n",
        "Lembrem-se que uma * época * significa uma passagem por todos os dados de treinamento. Note também que estamos usando uma fração dos dados de treinamento como nosso conjunto de validação.\n",
        "\n",
        "Note que as camadas LSTMs são lentas para se treinar."
      ]
    },
    {
      "cell_type": "code",
      "metadata": {
        "id": "r8kzuV1HUXhB",
        "colab_type": "code",
        "colab": {
          "base_uri": "https://localhost:8080/",
          "height": 221
        },
        "outputId": "8f33f11c-605a-404c-95d7-9d19c05e03f8"
      },
      "source": [
        "%%time\n",
        "epochs = 5\n",
        "validation_split = 0.1\n",
        "\n",
        "history = model.fit(x_train, y_train, batch_size=128,\n",
        "          epochs=epochs, \n",
        "          validation_split=validation_split)\n"
      ],
      "execution_count": null,
      "outputs": [
        {
          "output_type": "stream",
          "text": [
            "Epoch 1/5\n",
            "176/176 [==============================] - 3s 17ms/step - loss: 0.4658 - accuracy: 0.7768 - val_loss: 0.3697 - val_accuracy: 0.8388\n",
            "Epoch 2/5\n",
            "176/176 [==============================] - 3s 15ms/step - loss: 0.2873 - accuracy: 0.8826 - val_loss: 0.4219 - val_accuracy: 0.8440\n",
            "Epoch 3/5\n",
            "176/176 [==============================] - 3s 15ms/step - loss: 0.2303 - accuracy: 0.9097 - val_loss: 0.3663 - val_accuracy: 0.8480\n",
            "Epoch 4/5\n",
            "176/176 [==============================] - 3s 15ms/step - loss: 0.1975 - accuracy: 0.9266 - val_loss: 0.3498 - val_accuracy: 0.8516\n",
            "Epoch 5/5\n",
            "176/176 [==============================] - 3s 15ms/step - loss: 0.1731 - accuracy: 0.9364 - val_loss: 0.3678 - val_accuracy: 0.8480\n",
            "CPU times: user 16.4 s, sys: 1.31 s, total: 17.7 s\n",
            "Wall time: 15.1 s\n"
          ],
          "name": "stdout"
        }
      ]
    },
    {
      "cell_type": "markdown",
      "metadata": {
        "id": "8qlIHjvgUXhD",
        "colab_type": "text"
      },
      "source": [
        "Vamos plotar os dados para ver como o treinamento progrediu. \n",
        "\n",
        "Obs: Se observarmos um grande gap entre os valores de precisões de treinamento e validação isso normalmente sugere overfitting."
      ]
    },
    {
      "cell_type": "code",
      "metadata": {
        "id": "yvr_3Gj5UXhD",
        "colab_type": "code",
        "colab": {
          "base_uri": "https://localhost:8080/",
          "height": 441
        },
        "outputId": "51408078-3c45-4c21-e059-88511228fd62"
      },
      "source": [
        "plt.figure(figsize=(5,3))\n",
        "plt.plot(history.epoch,history.history['loss'], label='training')\n",
        "plt.plot(history.epoch,history.history['val_loss'], label='validation')\n",
        "plt.title('loss')\n",
        "plt.legend(loc='best')\n",
        "\n",
        "plt.figure(figsize=(5,3))\n",
        "plt.plot(history.epoch,history.history['accuracy'], label='training')\n",
        "plt.plot(history.epoch,history.history['val_accuracy'], label='validation')\n",
        "plt.title('accuracy')\n",
        "plt.legend(loc='best');"
      ],
      "execution_count": null,
      "outputs": [
        {
          "output_type": "display_data",
          "data": {
            "image/png": "[encoded data removed]",
            "text/plain": [
              "<Figure size 360x216 with 1 Axes>"
            ]
          },
          "metadata": {
            "tags": []
          }
        },
        {
          "output_type": "display_data",
          "data": {
            "image/png": "[encoded data removed]",
            "text/plain": [
              "<Figure size 360x216 with 1 Axes>"
            ]
          },
          "metadata": {
            "tags": []
          }
        }
      ]
    },
    {
      "cell_type": "markdown",
      "metadata": {
        "id": "7I5ASZm5UXhG",
        "colab_type": "text"
      },
      "source": [
        "## Insights\n",
        "\n",
        "Para melhor verificarmos a qualidade do modelo calculamos então nossa acurácia para os dados de teste:"
      ]
    },
    {
      "cell_type": "code",
      "metadata": {
        "id": "iX7YM6lAUXhH",
        "colab_type": "code",
        "colab": {
          "base_uri": "https://localhost:8080/",
          "height": 51
        },
        "outputId": "8106fe1e-d6d3-4d39-805d-8dc53f2a5440"
      },
      "source": [
        "scores = model.evaluate(x_test, y_test, verbose=2)\n",
        "print(\"%s: %.2f%%\" % (model.metrics_names[1], scores[1]*100))"
      ],
      "execution_count": null,
      "outputs": [
        {
          "output_type": "stream",
          "text": [
            "782/782 - 3s - loss: 0.3759 - accuracy: 0.8472\n",
            "accuracy: 84.72%\n"
          ],
          "name": "stdout"
        }
      ]
    },
    {
      "cell_type": "markdown",
      "metadata": {
        "id": "6ZGoHS9KXuV3",
        "colab_type": "text"
      },
      "source": [
        "- No pré-processamento a variável nb_words estava com definição = 10000 a cerca do número de palavras, das quais são mais frequentes para se utilizar. Resolvi fazer um teste alterando para 20000 com intuito de cortar os textos a partir do *maxlenght* = 100 mediante ao seu comprimento máximo de palavras.\n",
        "\n",
        "- Note que na camada de LSTM, foi inserida toda a classe, visto que usei várias ativações, das quais à accuracy encontrava-se entre 78 a 83%, sem nenhum resultado satisfatório. \n",
        "\n",
        "- Para ultrapassar os 83% em nossa análise, foi necessário usar apenas 5 epochs com uma pequena alteração no validation_split com peso definido = 0.1. Assim, chegamos a 84.72% de melhoria.\n"
      ]
    },
    {
      "cell_type": "markdown",
      "metadata": {
        "id": "0A9XCZ8_UXhJ",
        "colab_type": "text"
      },
      "source": [
        "---\n",
        "*Run this notebook in Google Colaboratory using [this link](https://colab.research.google.com/github/csc-training/intro-to-dl/blob/master/day1/keras-imdb-rnn.ipynb).*"
      ]
    }
  ]
}